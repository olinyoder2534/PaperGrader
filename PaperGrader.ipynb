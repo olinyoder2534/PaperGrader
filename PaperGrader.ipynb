{
  "nbformat": 4,
  "nbformat_minor": 0,
  "metadata": {
    "colab": {
      "provenance": [],
      "authorship_tag": "ABX9TyPjuUQk01LkqCNZkyqWSb//",
      "include_colab_link": true
    },
    "kernelspec": {
      "name": "python3",
      "display_name": "Python 3"
    },
    "language_info": {
      "name": "python"
    }
  },
  "cells": [
    {
      "cell_type": "markdown",
      "metadata": {
        "id": "view-in-github",
        "colab_type": "text"
      },
      "source": [
        "<a href=\"https://colab.research.google.com/github/olinyoder2534/PaperGrader/blob/main/PaperGrader.ipynb\" target=\"_parent\"><img src=\"https://colab.research.google.com/assets/colab-badge.svg\" alt=\"Open In Colab\"/></a>"
      ]
    },
    {
      "cell_type": "code",
      "execution_count": null,
      "metadata": {
        "id": "R1XjSA3vRmPf"
      },
      "outputs": [],
      "source": [
        "import pandas as pd\n",
        "import tensorflow as tf\n",
        "from tensorflow import keras\n",
        "from tensorflow.keras import layers, models\n",
        "import matplotlib.pyplot as plt\n",
        "%matplotlib inline\n",
        "import seaborn as sn\n",
        "import numpy as np"
      ]
    },
    {
      "cell_type": "code",
      "source": [
        "(X_train, y_train), (X_test, y_test) = keras.datasets.mnist.load_data()"
      ],
      "metadata": {
        "id": "x1fF2T9MR5_B"
      },
      "execution_count": null,
      "outputs": []
    },
    {
      "cell_type": "code",
      "source": [
        "X_train.shape"
      ],
      "metadata": {
        "colab": {
          "base_uri": "https://localhost:8080/"
        },
        "id": "4jwqA4UpSjR0",
        "outputId": "71ee4f21-57c9-42dc-ade9-fcebb153c9d7"
      },
      "execution_count": null,
      "outputs": [
        {
          "output_type": "execute_result",
          "data": {
            "text/plain": [
              "(60000, 28, 28)"
            ]
          },
          "metadata": {},
          "execution_count": 5
        }
      ]
    },
    {
      "cell_type": "code",
      "source": [
        "X_train_reshaped = np.expand_dims(X_train, axis=-1)"
      ],
      "metadata": {
        "id": "d5J32uFNSsFq"
      },
      "execution_count": null,
      "outputs": []
    },
    {
      "cell_type": "code",
      "source": [
        "data_augmentation = keras.Sequential(\n",
        "  [\n",
        "    layers.experimental.preprocessing.RandomFlip(\"horizontal\",\n",
        "                                                 input_shape=(28,\n",
        "                                                              28,\n",
        "                                                              1)),\n",
        "    layers.experimental.preprocessing.RandomRotation(0.25),\n",
        "    layers.experimental.preprocessing.RandomZoom(0.25),\n",
        "  ]\n",
        ")\n"
      ],
      "metadata": {
        "id": "1N1Co9XqSntC"
      },
      "execution_count": null,
      "outputs": []
    },
    {
      "cell_type": "code",
      "source": [
        "model1 = models.Sequential([\n",
        "    layers.Conv2D(filters=50, kernel_size=(3, 3), activation='relu', input_shape=(28, 28, 1)),\n",
        "    layers.MaxPooling2D((2, 2)),\n",
        "\n",
        "    layers.Conv2D(filters=100, kernel_size=(3, 3), activation='relu'),\n",
        "    layers.MaxPooling2D((2, 2)),\n",
        "\n",
        "    #layers.Conv2D(filters=150, kernel_size=(3, 3), activation='relu'),\n",
        "    #layers.MaxPooling2D((2, 2)),\n",
        "\n",
        "    layers.Dropout(.25),\n",
        "\n",
        "    layers.Flatten(),\n",
        "    layers.Dense(100, activation='relu'),\n",
        "    layers.Dense(10, activation='softmax')\n",
        "])\n",
        "\n",
        "model1.compile(optimizer='adam',\n",
        "              loss='sparse_categorical_crossentropy',\n",
        "              metrics=['accuracy'])\n",
        "\n",
        "model1.fit(X_train_reshaped/255, y_train, epochs=6)"
      ],
      "metadata": {
        "colab": {
          "base_uri": "https://localhost:8080/"
        },
        "id": "5agfjidlSVx8",
        "outputId": "94e4fe33-e244-468f-af1e-59811a6de26d"
      },
      "execution_count": null,
      "outputs": [
        {
          "output_type": "stream",
          "name": "stdout",
          "text": [
            "Epoch 1/6\n",
            "1875/1875 [==============================] - 96s 51ms/step - loss: 0.1266 - accuracy: 0.9613\n",
            "Epoch 2/6\n",
            "1875/1875 [==============================] - 91s 49ms/step - loss: 0.0454 - accuracy: 0.9856\n",
            "Epoch 3/6\n",
            "1875/1875 [==============================] - 91s 49ms/step - loss: 0.0325 - accuracy: 0.9896\n",
            "Epoch 4/6\n",
            "1875/1875 [==============================] - 90s 48ms/step - loss: 0.0247 - accuracy: 0.9924\n",
            "Epoch 5/6\n",
            "1875/1875 [==============================] - 91s 48ms/step - loss: 0.0208 - accuracy: 0.9935\n",
            "Epoch 6/6\n",
            "1875/1875 [==============================] - 96s 51ms/step - loss: 0.0166 - accuracy: 0.9948\n"
          ]
        },
        {
          "output_type": "execute_result",
          "data": {
            "text/plain": [
              "<keras.src.callbacks.History at 0x7ef49b27e2f0>"
            ]
          },
          "metadata": {},
          "execution_count": 11
        }
      ]
    },
    {
      "cell_type": "code",
      "source": [
        "model1.evaluate(X_test/255, y_test)"
      ],
      "metadata": {
        "colab": {
          "base_uri": "https://localhost:8080/"
        },
        "id": "2OalxsO8TF1M",
        "outputId": "1b2346ab-d18b-468b-fd9c-f2641b9213f2"
      },
      "execution_count": null,
      "outputs": [
        {
          "output_type": "stream",
          "name": "stdout",
          "text": [
            "313/313 [==============================] - 6s 18ms/step - loss: 0.0253 - accuracy: 0.9923\n"
          ]
        },
        {
          "output_type": "execute_result",
          "data": {
            "text/plain": [
              "[0.025336816906929016, 0.9922999739646912]"
            ]
          },
          "metadata": {},
          "execution_count": 12
        }
      ]
    },
    {
      "cell_type": "code",
      "source": [
        "model1.save('model1.h5')"
      ],
      "metadata": {
        "id": "KZLUMt4fWEtQ"
      },
      "execution_count": null,
      "outputs": []
    },
    {
      "cell_type": "code",
      "source": [
        "from keras.models import load_model\n",
        "model1 = load_model('model1.h5')"
      ],
      "metadata": {
        "id": "-SevNg-sWRS3"
      },
      "execution_count": null,
      "outputs": []
    },
    {
      "cell_type": "code",
      "source": [
        "import cv2\n",
        "import numpy as np\n",
        "from keras.models import load_model\n",
        "from google.colab.patches import cv2_imshow\n",
        "\n",
        "model1 = load_model('model1.h5')\n",
        "\n",
        "def preprocess_image(image):\n",
        "    gray = cv2.cvtColor(image, cv2.COLOR_BGR2GRAY)\n",
        "    resized = cv2.resize(gray, (28, 28), interpolation=cv2.INTER_AREA)\n",
        "    processed_image = np.expand_dims(resized, axis=-1)\n",
        "    processed_image = processed_image / 255\n",
        "    return processed_image\n",
        "\n",
        "def identify_numbers(image):\n",
        "    processed_image = preprocess_image(image)\n",
        "    predictions = model1.predict(processed_image.reshape(-1, 28, 28, 1))\n",
        "    predicted_numbers = [np.argmax(prediction) for prediction in predictions]\n",
        "    return predicted_numbers\n",
        "\n",
        "def check_answers(correct_answers, identified_numbers):\n",
        "    num_correct = 0\n",
        "    num_questions = len(correct_answers)\n",
        "    correct_questions = []\n",
        "    wrong_questions = []\n",
        "    for i, (correct_answer, identified_number) in enumerate(zip(correct_answers, identified_numbers), start=1):\n",
        "        if correct_answer == identified_number:\n",
        "            num_correct += 1\n",
        "            correct_questions.append(i)\n",
        "        else:\n",
        "            wrong_questions.append(i)\n",
        "    return num_correct, num_questions, correct_questions, wrong_questions\n",
        "\n",
        "def main(num_questions, correct_answers):\n",
        "    cap = cv2.VideoCapture(0)\n",
        "\n",
        "    while True:\n",
        "        ret, frame = cap.read()\n",
        "\n",
        "        if frame is None:\n",
        "            print(\"Error: Unable to read frame from the camera.\")\n",
        "            break\n",
        "\n",
        "        cv2_imshow(frame)\n",
        "\n",
        "        identified_numbers = identify_numbers(frame)\n",
        "\n",
        "        num_correct, num_questions, correct_questions, wrong_questions = check_answers(correct_answers, identified_numbers)\n",
        "\n",
        "        print(f\"Number of correct answers: {num_correct}/{num_questions}\")\n",
        "        print(f\"Correct questions: {correct_questions}\")\n",
        "        print(f\"Wrong questions: {wrong_questions}\")\n",
        "\n",
        "        if cv2.waitKey(1) & 0xFF == ord('q'):\n",
        "            break\n",
        "\n",
        "    cap.release()\n",
        "    cv2.destroyAllWindows()\n",
        "\n",
        "if __name__ == \"__main__\":\n",
        "    num_questions = 20\n",
        "    correct_answers = [1, 2, 3, 4, 5, 6, 7, 8, 9, 0, 1, 2, 3, 4, 5, 6, 7, 8, 9, 0]\n",
        "\n",
        "    main(num_questions, correct_answers)"
      ],
      "metadata": {
        "colab": {
          "base_uri": "https://localhost:8080/"
        },
        "id": "sLQl41LHVOV0",
        "outputId": "0cd39851-0bb8-4d38-e9e4-5158e1c45806"
      },
      "execution_count": null,
      "outputs": [
        {
          "output_type": "stream",
          "name": "stdout",
          "text": [
            "Error: Unable to read frame from the camera.\n"
          ]
        }
      ]
    }
  ]
}